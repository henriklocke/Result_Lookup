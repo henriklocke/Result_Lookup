{
 "cells": [
  {
   "cell_type": "code",
   "execution_count": 2,
   "id": "dd73092d",
   "metadata": {},
   "outputs": [],
   "source": [
    "import mikeio\n",
    "import mikeio1d\n",
    "from mikeio1d.res1d import Res1D\n",
    "import pandas as pd\n",
    "import numpy as np\n",
    "import plotly\n",
    "import plotly.graph_objects as go\n"
   ]
  },
  {
   "cell_type": "code",
   "execution_count": 102,
   "id": "879164a2",
   "metadata": {},
   "outputs": [],
   "source": [
    "master_list = []\n",
    "model_area = 'FSA'\n",
    "model = 'FSA_Base_2020pop_V044.mdb'\n",
    "output_folder = r'J:\\SEWER_AREA_MODELS\\FSA\\03_SIMULATION_WORK\\Allways_Latest_Master_Model_Simulations\\Plots'\n",
    "result_folder = r\"J:\\SEWER_AREA_MODELS\\FSA\\03_SIMULATION_WORK\\Allways_Latest_Master_Model_Simulations\\Model\"\n",
    "result_list = []\n",
    "result_list.append(['2yr 24h No Climate Change','FSA_WWF_EX-2yr-24hr-AES_2020pop_Base.res1d',1])\n",
    "result_list.append(['5yr 24h No Climate Change','FSA_WWF_EX-5yr-24hr-AES_2020pop_Base.res1d',1])\n",
    "result_list.append(['10yr 24h No Climate Change','FSA_WWF_EX-10yr-24hr-AES_2020pop_Base.res1d',1])\n",
    "# result_list.append(['Dry Weather Flow','FSA_DWF_2021-07-23_4d_2020pop_Base.res1d',0])\n",
    "# result_list.append(['Jan 31 2020 Event','FSA_WWF_2020-01-29_6d_2020pop_Base.res1d',0])\n",
    "# result_list.append(['Nov 15 2021 Event','FSA_WWF_2021-11-12_5d_2020pop_Base.res1d',0])\n",
    "\n",
    "master_list.append([model_area,model,result_folder,output_folder,result_list])"
   ]
  },
  {
   "cell_type": "code",
   "execution_count": null,
   "id": "5c567326",
   "metadata": {},
   "outputs": [],
   "source": [
    "for m in master_list:\n",
    "    model = m[0]\n",
    "    output_folder = m[1]\n",
    "    result_folder = m[2]\n",
    "    output_folder = m[3]\n",
    "    result_list = m[4]\n",
    "    nodes_df = pd.read_csv(result_folder + '\\\\Connection_Stats_Nodes.csv',dtype={'MUID': str})\n",
    "    lines_df =  pd.read_csv(result_folder + '\\\\Connection_Stats_Lines.csv',dtype={'MUID': str, 'From Node': str, 'To Node': str})\n",
    "    for r in result_list:\n",
    "        header = r[0]\n",
    "        file = r[1]\n",
    "        res1d = Res1D(result_folder + '\\\\' + file)\n",
    "        r.append(res1d)\n",
    "        for index, row in nodes_df[:1].iterrows():\n",
    "            print(row['MUID'])\n",
    "            for column in nodes_df.columns[1:]:\n",
    "                print(column)"
   ]
  },
  {
   "cell_type": "code",
   "execution_count": 109,
   "id": "51ac6f61",
   "metadata": {},
   "outputs": [],
   "source": [
    "for m in master_list:\n",
    "                \n",
    "    for index, row in nodes_df[:1].iterrows():\n",
    "        node = row['MUID']\n",
    "\n",
    "        fig = go.Figure()\n",
    "        \n",
    "        time_bookends = [res1d.time_index[0],res1d.time_index[-1]]\n",
    "        for column in nodes_df.columns[1:]:\n",
    "            if not np.isnan(row[column]):\n",
    "                fig.add_trace(go.Scatter(x=time_bookends, \n",
    "                                 y = [row[column],row[column]], \n",
    "                                 mode='lines',name=column))\n",
    "        \n",
    "        for i, r in enumerate(result_list): \n",
    "\n",
    "            if r[2] == 1:\n",
    "                fig.add_trace(go.Scatter(x=r[3].time_index, \n",
    "                                         y = list(r[3].query.GetNodeValues(node, \"WaterLevel\")), \n",
    "                                         mode='lines',name=r[0]))\n",
    "\n",
    "                    \n",
    "        fig.update_layout(\n",
    "            autosize=False,\n",
    "            width = 1362,\n",
    "            height=500,\n",
    "            margin=dict(\n",
    "                l=50,\n",
    "                r=50,\n",
    "                b=25,\n",
    "                t=35,\n",
    "                pad=4\n",
    "                ),\n",
    "            yaxis_title=\"HGL (m)\" \n",
    "            )\n",
    "\n",
    "        upstream_df = lines_df[lines_df.ToNode==node]\n",
    "        upstream_lines = list(upstream_df.MUID)\n",
    "        upstream_layers = list(upstream_df.Layer)\n",
    "        upstreams = zip(upstream_lines,upstream_layers)\n",
    "\n",
    "        downstream_df = lines_df[lines_df.FromNode==node]\n",
    "        downstream_lines = list(downstream_df.MUID)\n",
    "        downstream_layers = list(downstream_df.Layer)\n",
    "        downstreams = zip(downstream_lines,downstream_layers)\n",
    "\n",
    "        with open(output_folder + \"\\\\\" + model + \"_WaterLevel_Node_\" + node + \".html\", 'w') as f:\n",
    "            f.write(\"<h1>Water Level in node '\" + node + \"</h1>\\n\")\n",
    "            f.write(\"<h2>Links to Connected Elements</h2>\\n\")\n",
    "            for upstream in upstreams:\n",
    "                path = output_folder + \"\\\\\" + model + \"_Discharge_\" + upstream[1] + \"_\" + upstream[0] + \".html\"\n",
    "                f.write('<a href=\"' + path + '\">Upstream ' + upstream[1] + ' ' + upstream[0] + '</a>\\n')\n",
    "                f.write(\"<br>\")\n",
    "            for downstream in downstreams:\n",
    "                path = output_folder + \"\\\\\" + model + \"_Discharge_\" + downstream[1] + \"_\" + downstream[0] + \".html\"\n",
    "                f.write('<a href=\"' + path + '\">Downstream ' + downstream[1] + ' ' + downstream[0] + '</a>\\n')\n",
    "                f.write(\"<br>\")\n",
    "            f.write(\"<h2>\" + r[0] + \"</h2>\\n\")\n",
    "            f.write(fig.to_html(full_html=False, include_plotlyjs='cdn'))\n",
    "        f.close()\n",
    "\n",
    "#     for index, row in lines_df.iterrows():\n",
    "#         pipe = row['MUID']\n",
    "#         from_node = row['FromNode']\n",
    "#         to_node = row['ToNode']\n",
    "#         layer = row['Layer']\n",
    "#         fig = go.Figure()\n",
    "#         if layer == 'Link':\n",
    "#             muid = pipe\n",
    "#         else:\n",
    "#             muid = layer + ':' + pipe\n",
    "#         for i, r in enumerate(result_list): \n",
    "\n",
    "#             fig.add_trace(go.Scatter(x=res1d.time_index, \n",
    "#                                      y = list(res1d.query.GetReachEndValues(muid, \"Discharge\")), \n",
    "#                                      mode='lines',name='Discharge'))\n",
    "\n",
    "#         fig.update_layout(\n",
    "#             autosize=False,\n",
    "#             width = 1362,\n",
    "#             height=500,\n",
    "#             margin=dict(\n",
    "#                 l=50,\n",
    "#                 r=50,\n",
    "#                 b=25,\n",
    "#                 t=35,\n",
    "#                 pad=4\n",
    "#                 ),\n",
    "#             yaxis_title=\"Discharge (m<sup>3</sup>/s)\" \n",
    "#             )\n",
    "\n",
    "#         with open(output_folder + \"\\\\\" + model + \"_Discharge_\" + layer + \"_\" + pipe + \".html\", 'w') as f:\n",
    "#             f.write(\"<h1>Discharge in \" + layer + \" \" + pipe + \"</h1>\\n\")\n",
    "#             f.write(\"<h2>Links to Connected Elements</h2>\\n\")\n",
    "\n",
    "#             path = output_folder + \"\\\\\" + model + \"_WaterLevel_Node_\" + from_node + \".html\"\n",
    "#             f.write('<a href=\"' + path + '\">Upstream Node ' + from_node + '</a>\\n')\n",
    "#             f.write(\"<br>\")\n",
    "\n",
    "#             try:\n",
    "#                 path = output_folder + \"\\\\\" + model + \"_WaterLevel_Node_\" + to_node + \".html\"\n",
    "#                 f.write('<a href=\"' + path + '\">Downstream Node ' + to_node + '</a>\\n')\n",
    "#             except:\n",
    "#                 f.write('<p>There is no downstream node.</p>\\n')\n",
    "#             f.write(\"<br>\")\n",
    "\n",
    "#             f.write(\"<h2>\" + r[0] + \"</h2>\\n\")\n",
    "#             f.write(fig.to_html(full_html=False, include_plotlyjs='cdn'))\n",
    "#         f.close()\n",
    "\n",
    "        "
   ]
  },
  {
   "cell_type": "code",
   "execution_count": 106,
   "id": "45d8f775",
   "metadata": {},
   "outputs": [
    {
     "data": {
      "text/plain": [
       "1"
      ]
     },
     "execution_count": 106,
     "metadata": {},
     "output_type": "execute_result"
    }
   ],
   "source": [
    "r[2]\n",
    "    "
   ]
  },
  {
   "cell_type": "code",
   "execution_count": 99,
   "id": "36c79279",
   "metadata": {},
   "outputs": [
    {
     "data": {
      "text/plain": [
       "[['2yr 24h No Climate Change',\n",
       "  'FSA_WWF_EX-2yr-24hr-AES_2020pop_Base.res1d',\n",
       "  1,\n",
       "  'Yep'],\n",
       " ['5yr 24h No Climate Change',\n",
       "  'FSA_WWF_EX-5yr-24hr-AES_2020pop_Base.res1d',\n",
       "  1,\n",
       "  'Yep'],\n",
       " ['10yr 24h No Climate Change',\n",
       "  'FSA_WWF_EX-10yr-24hr-AES_2020pop_Base.res1d',\n",
       "  1,\n",
       "  'Yep']]"
      ]
     },
     "execution_count": 99,
     "metadata": {},
     "output_type": "execute_result"
    }
   ],
   "source": [
    "result_list"
   ]
  },
  {
   "cell_type": "code",
   "execution_count": null,
   "id": "26b2dfc7",
   "metadata": {},
   "outputs": [],
   "source": []
  }
 ],
 "metadata": {
  "kernelspec": {
   "display_name": "py39_mike",
   "language": "python",
   "name": "py39_mike"
  },
  "language_info": {
   "codemirror_mode": {
    "name": "ipython",
    "version": 3
   },
   "file_extension": ".py",
   "mimetype": "text/x-python",
   "name": "python",
   "nbconvert_exporter": "python",
   "pygments_lexer": "ipython3",
   "version": "3.9.12"
  }
 },
 "nbformat": 4,
 "nbformat_minor": 5
}
