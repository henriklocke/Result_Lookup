{
 "cells": [
  {
   "cell_type": "code",
   "execution_count": null,
   "id": "d068f301",
   "metadata": {},
   "outputs": [],
   "source": [
    "#PERMANENT CELL 1\n",
    "\n",
    "import os\n",
    "import mikeio\n",
    "import mikeio1d\n",
    "from mikeio1d.res1d import Res1D\n",
    "import math\n",
    "import pandas as pd\n",
    "import numpy as np\n",
    "import plotly\n",
    "import plotly.graph_objects as go\n",
    "from plotly.subplots import make_subplots\n",
    "import ctypes\n",
    "import traceback\n",
    "MessageBox = ctypes.windll.user32.MessageBoxA\n",
    "from Result_Lookup_Variables import *"
   ]
  },
  {
   "cell_type": "code",
   "execution_count": null,
   "id": "a037fdde",
   "metadata": {},
   "outputs": [],
   "source": [
    "result_folder = r\"J:\\SEWER_AREA_MODELS\\FSA\\03_SIMULATION_WORK\\Always_Latest_Master_Model_Simulations_FSA\\Model\"\n",
    "node_df = pd.read_csv(result_folder + '\\\\ls_nodes.csv',dtype={'Node': str})\n",
    "node_df.set_index('Node',inplace=True)\n",
    "pipe_df = pd.read_csv(result_folder + '\\\\ls_pipes.csv',dtype={'Pipe': str,'FromNode': str,'ToNode': str})\n",
    "pipe_df.set_index('Pipe',inplace=True)"
   ]
  },
  {
   "cell_type": "markdown",
   "id": "e007f97a",
   "metadata": {},
   "source": [
    "#Final product\n",
    "Alternating rows:\n",
    "Node, Link Upstream, Link Downstream, Node............Node"
   ]
  },
  {
   "cell_type": "code",
   "execution_count": null,
   "id": "d5e85a1b",
   "metadata": {},
   "outputs": [],
   "source": [
    "class Node():\n",
    "    def __init__(self,node):    \n",
    "        self.node = node\n",
    "    def invert(self):        \n",
    "        return node_df.loc[self.node,'Invert Level']\n",
    "    def ground(self):        \n",
    "        return node_df.loc[self.node,'Ground Level']\n",
    "    def soh(self):        \n",
    "        return node_df.loc[self.node,'Safe Operating Head']\n",
    "    def asset_name(self):        \n",
    "        return node_df.loc[self.node,'Asset Name']\n",
    "    def cover(self):        \n",
    "        return node_df.loc[self.node,'Cover Type']\n",
    "\n",
    "class Pipe():\n",
    "    def __init__(self,pipe):    \n",
    "        self.pipe = pipe\n",
    "    def height(self):        \n",
    "        return pipe_df.loc[self.pipe,'Height'] \n",
    "    def uplevel(self):\n",
    "        uplevel = pipe_df.loc[self.pipe,'UpLevel']\n",
    "        if math.isnan(uplevel):\n",
    "            node = pipe_df.loc[self.pipe,'FromNode']\n",
    "            uplevel = node_df.loc[node,'Invert Level']\n",
    "        return uplevel\n",
    "    def dwlevel(self):\n",
    "        dwlevel = pipe_df.loc[self.pipe,'DwLevel']\n",
    "        if math.isnan(dwlevel):\n",
    "            node = pipe_df.loc[self.pipe,'ToNode']\n",
    "            dwlevel = node_df.loc[node,'Invert Level']\n",
    "        return dwlevel\n",
    "    "
   ]
  },
  {
   "cell_type": "code",
   "execution_count": null,
   "id": "fa23a54f",
   "metadata": {},
   "outputs": [],
   "source": [
    "Pipe('48502').uplevel()"
   ]
  },
  {
   "cell_type": "code",
   "execution_count": null,
   "id": "fed13d93",
   "metadata": {},
   "outputs": [],
   "source": [
    "pipe_df"
   ]
  },
  {
   "cell_type": "code",
   "execution_count": null,
   "id": "60b342f5",
   "metadata": {},
   "outputs": [],
   "source": [
    "math.isnan(pipe_df.loc['48502','DwLevel'])"
   ]
  },
  {
   "cell_type": "code",
   "execution_count": null,
   "id": "b9592ced",
   "metadata": {},
   "outputs": [],
   "source": [
    "acronyms = list(pipe_df.Acronym.unique())\n",
    "paths = []\n",
    "\n",
    "for acronym in acronyms:\n",
    "\n",
    "    pipe_index_df = pipe_df[pipe_df.Acronym==acronym]\n",
    "\n",
    "    start_pipes = []\n",
    "    for index, row in pipe_index_df.iterrows():\n",
    "        if row['FromNode'] not in list(pipe_index_df.ToNode):\n",
    "            \n",
    "            start_pipes.append(index)\n",
    "\n",
    "    start_pipes\n",
    "\n",
    "    for start_pipe in start_pipes[:1]:\n",
    "        exit_path = False\n",
    "        chainage = 0\n",
    "        \n",
    "        node = pipe_index_df.loc[start_pipe,'FromNode']\n",
    "        pipe = start_pipe\n",
    "        \n",
    "        path = [[0,acronym,'Node',node,chainage,Node(node).invert(),\n",
    "                 Node(node).ground(),Node(node).soh(),Node(node).asset_name(),Node(node).cover(),\n",
    "                Pipe(pipe).height(),Pipe(pipe).height()+Pipe(pipe).uplevel()]]\n",
    "        \n",
    "        i = 0\n",
    "        while exit_path == False and i < 1000:\n",
    "            \n",
    "            path.append([i*3+1,acronym,'Pipe US',pipe,chainage,Pipe(pipe).uplevel(),\n",
    "                         Node(node).ground(),Node(node).soh(),Node(node).asset_name(),Node(node).cover(),\n",
    "                        Pipe(pipe).height(),Pipe(pipe).height()+Pipe(pipe).uplevel()])\n",
    "            \n",
    "            chainage += pipe_index_df.loc[pipe,'Length']\n",
    "            \n",
    "            node = pipe_index_df.loc[pipe,'ToNode']\n",
    "            \n",
    "            \n",
    "            path.append([i*3+1,acronym,'Pipe DS',pipe,chainage,Pipe(pipe).dwlevel(),\n",
    "                         Node(node).ground(),Node(node).soh(),Node(node).asset_name(),Node(node).cover(),\n",
    "                        Pipe(pipe).height(),Pipe(pipe).height()+Pipe(pipe).dwlevel()])\n",
    "            \n",
    "            path.append([i*3+3,acronym,'Node',node,chainage,Node(node).invert(),\n",
    "                         Node(node).ground(),Node(node).soh(),Node(node).asset_name(),Node(node).cover(),\n",
    "                        Pipe(pipe).height(),Pipe(pipe).height()+Pipe(pipe).dwlevel()])\n",
    "                                 \n",
    "            try:\n",
    "                pipe = pipe_index_df[pipe_index_df.FromNode==node].index[0]\n",
    "            except:\n",
    "                exit_path = True   \n",
    "            i += 1\n",
    "    paths += path\n",
    "\n",
    "# paths\n",
    "path_df=pd.DataFrame(paths,columns=['Sqn','Acronym','Type','MUID','Chainage','Invert Level','Ground Level','Safe Operating Head',\n",
    "                                   'Asset Name','Cover Type','Height','Obvert'])\n",
    "       "
   ]
  },
  {
   "cell_type": "code",
   "execution_count": null,
   "id": "afc2b89a",
   "metadata": {},
   "outputs": [],
   "source": [
    "path_df.head(20)"
   ]
  },
  {
   "cell_type": "code",
   "execution_count": null,
   "id": "58fbfe0d",
   "metadata": {},
   "outputs": [],
   "source": [
    "path_acronym_df.columns"
   ]
  },
  {
   "cell_type": "code",
   "execution_count": null,
   "id": "9e3155f4",
   "metadata": {},
   "outputs": [],
   "source": [
    "path_acronym_df = path_df[path_df.Acronym=='SSH']\n",
    "fig = go.Figure()\n",
    "\n",
    "columns=['Invert Level','Ground Level', 'Safe Operating Head', 'Obvert']\n",
    "    \n",
    "for column in columns: \n",
    "    fig.add_trace(go.Scatter(x=path_acronym_df.Chainage, \n",
    "                             y = path_acronym_df[column],name=column))\n",
    "\n",
    "fig.show()"
   ]
  },
  {
   "cell_type": "code",
   "execution_count": null,
   "id": "82fa2439",
   "metadata": {},
   "outputs": [],
   "source": [
    "path_acronym_df"
   ]
  }
 ],
 "metadata": {
  "kernelspec": {
   "display_name": "py39_mike",
   "language": "python",
   "name": "py39_mike"
  },
  "language_info": {
   "codemirror_mode": {
    "name": "ipython",
    "version": 3
   },
   "file_extension": ".py",
   "mimetype": "text/x-python",
   "name": "python",
   "nbconvert_exporter": "python",
   "pygments_lexer": "ipython3",
   "version": "3.9.12"
  }
 },
 "nbformat": 4,
 "nbformat_minor": 5
}
